{
 "cells": [
  {
   "cell_type": "code",
   "execution_count": 31,
   "id": "22d9aa9e-8d4e-4192-b625-0f279e81ebd6",
   "metadata": {},
   "outputs": [],
   "source": [
    "# Importing libraries\n",
    "\n",
    "import numpy as np\n",
    "import pandas as pd\n",
    "import datetime as dt\n",
    "import yfinance as yf\n",
    "import matplotlib.pyplot as plt\n",
    "from scipy.stats import norm"
   ]
  },
  {
   "cell_type": "code",
   "execution_count": 32,
   "id": "a0e6574d-cb8c-4e89-9fa3-6b58208b9090",
   "metadata": {},
   "outputs": [
    {
     "name": "stdout",
     "output_type": "stream",
     "text": [
      "2010-04-25 13:01:23.280034\n",
      "2025-04-21 13:01:23.280034\n"
     ]
    }
   ],
   "source": [
    "# Setting the timeline\n",
    "\n",
    "years= 15\n",
    "\n",
    "end_date= dt.datetime.today()\n",
    "start_date= end_date - dt.timedelta(days=years*365)\n",
    "print(start_date)\n",
    "print(end_date)"
   ]
  },
  {
   "cell_type": "code",
   "execution_count": 33,
   "id": "793c2944-9a37-4c4f-9e7f-5fe326a3d908",
   "metadata": {},
   "outputs": [],
   "source": [
    "# Creating a list of tickers\n",
    "\n",
    "tickers= [\"SPY\", \"BND\", \"GLD\", \"QQQ\", \"VTI\"]"
   ]
  },
  {
   "cell_type": "code",
   "execution_count": 34,
   "id": "d5c68ff7-0689-456f-bb51-a210a20332aa",
   "metadata": {},
   "outputs": [
    {
     "name": "stderr",
     "output_type": "stream",
     "text": [
      "[*********************100%***********************]  1 of 1 completed\n",
      "[*********************100%***********************]  1 of 1 completed\n",
      "[*********************100%***********************]  1 of 1 completed\n",
      "[*********************100%***********************]  1 of 1 completed\n",
      "[*********************100%***********************]  1 of 1 completed"
     ]
    },
    {
     "name": "stdout",
     "output_type": "stream",
     "text": [
      "                  SPY        BND         GLD        QQQ        VTI\n",
      "Date                                                              \n",
      "2010-04-26  92.216232  51.633114  112.750000  44.012676  47.539909\n",
      "2010-04-27  90.035225  51.821926  114.629997  43.078468  46.394367\n",
      "2010-04-28  90.719147  51.789368  114.309998  43.104652  46.699863\n",
      "2010-04-29  91.843811  51.808922  114.279999  43.855518  47.310806\n",
      "2010-04-30  90.286011  51.958645  115.360001  42.991161  46.501289\n"
     ]
    },
    {
     "name": "stderr",
     "output_type": "stream",
     "text": [
      "\n"
     ]
    }
   ],
   "source": [
    "# Downloading the daily close prices for the tickers\n",
    "\n",
    "close_df= pd.DataFrame()\n",
    "\n",
    "for ticker in tickers:\n",
    "    data= yf.download(ticker, start= start_date, end= end_date)\n",
    "    close_df[ticker]= data[\"Close\"]\n",
    "\n",
    "print(close_df.head())"
   ]
  },
  {
   "cell_type": "code",
   "execution_count": 35,
   "id": "18bc8ce4-6b3b-41df-8e74-5e3a6cb8293c",
   "metadata": {},
   "outputs": [
    {
     "name": "stdout",
     "output_type": "stream",
     "text": [
      "                 SPY       BND       GLD       QQQ       VTI\n",
      "Date                                                        \n",
      "2010-04-27 -0.023935  0.003650  0.016537 -0.021454 -0.024391\n",
      "2010-04-28  0.007567 -0.000628 -0.002795  0.000608  0.006563\n",
      "2010-04-29  0.012321  0.000377 -0.000262  0.017270  0.012997\n",
      "2010-04-30 -0.017107  0.002886  0.009406 -0.019906 -0.017259\n",
      "2010-05-03  0.012878 -0.000540  0.003202  0.013915  0.013377\n"
     ]
    }
   ],
   "source": [
    "# Calculating the daily log returns and drop any NAs\n",
    "\n",
    "log_returns= np.log(close_df/close_df.shift(1))\n",
    "log_returns= log_returns.dropna()\n",
    "\n",
    "print(log_returns.head())"
   ]
  },
  {
   "cell_type": "code",
   "execution_count": 36,
   "id": "dfbaea88-7085-45e1-9144-84821546b6b6",
   "metadata": {},
   "outputs": [
    {
     "name": "stdout",
     "output_type": "stream",
     "text": [
      "[0.2 0.2 0.2 0.2 0.2]\n"
     ]
    }
   ],
   "source": [
    "# Creating an equally weighted portfolio\n",
    "\n",
    "portfolio_value= 1000000\n",
    "\n",
    "weights= np.array([1/len(tickers)]*len(tickers))\n",
    "print(weights)"
   ]
  },
  {
   "cell_type": "code",
   "execution_count": 37,
   "id": "cabc7f2d-cc3e-4548-bb42-43a45b0e7b65",
   "metadata": {},
   "outputs": [
    {
     "name": "stdout",
     "output_type": "stream",
     "text": [
      "Date\n",
      "2010-04-27   -0.009919\n",
      "2010-04-28    0.002263\n",
      "2010-04-29    0.008541\n",
      "2010-04-30   -0.008396\n",
      "2010-05-03    0.008567\n",
      "dtype: float64\n"
     ]
    }
   ],
   "source": [
    "# Calculating the historical portfolio returns\n",
    "\n",
    "historical_returns= (log_returns * weights).sum(axis=1)\n",
    "print(historical_returns.head())"
   ]
  },
  {
   "cell_type": "code",
   "execution_count": 38,
   "id": "b6f641de-ea57-4a5e-b6b5-d961de686fad",
   "metadata": {},
   "outputs": [
    {
     "name": "stdout",
     "output_type": "stream",
     "text": [
      "Date\n",
      "2010-05-03    0.001055\n",
      "2010-05-04   -0.005721\n",
      "2010-05-05   -0.011365\n",
      "2010-05-06   -0.033708\n",
      "2010-05-07   -0.038039\n",
      "dtype: float64\n"
     ]
    }
   ],
   "source": [
    "# Finding the X-day historical returns\n",
    "\n",
    "days= 5\n",
    "\n",
    "returns_range= historical_returns.rolling(window= days).sum()\n",
    "returns_range= returns_range.dropna()\n",
    "print(returns_range.head())"
   ]
  },
  {
   "cell_type": "code",
   "execution_count": 39,
   "id": "3f7548b1-2a46-461d-8d31-489c9fb12c4b",
   "metadata": {},
   "outputs": [
    {
     "name": "stdout",
     "output_type": "stream",
     "text": [
      "          SPY       BND       GLD       QQQ       VTI\n",
      "SPY  0.030641  0.000073  0.001426  0.034195  0.031225\n",
      "BND  0.000073  0.002398  0.002292  0.000272  0.000122\n",
      "GLD  0.001426  0.002292  0.024119  0.001812  0.001561\n",
      "QQQ  0.034195  0.000272  0.001812  0.043958  0.034854\n",
      "VTI  0.031225  0.000122  0.001561  0.034854  0.032069\n"
     ]
    }
   ],
   "source": [
    "# Creating a covariance matrix for the securities\n",
    "\n",
    "cov_matrix= log_returns.cov() * 252\n",
    "\n",
    "print(cov_matrix)"
   ]
  },
  {
   "cell_type": "code",
   "execution_count": 40,
   "id": "49423367-c8f8-4265-bc78-6a9743b0a7db",
   "metadata": {},
   "outputs": [
    {
     "name": "stdout",
     "output_type": "stream",
     "text": [
      "0.1181275666932538\n"
     ]
    }
   ],
   "source": [
    "# Calculating portfolio std. dev.\n",
    "\n",
    "portfolio_std_dev= np.sqrt(weights.T @ cov_matrix @ weights)\n",
    "\n",
    "print(portfolio_std_dev)"
   ]
  },
  {
   "cell_type": "code",
   "execution_count": 41,
   "id": "8e554ef4-e9f5-4334-8ac2-cbd45ef9a510",
   "metadata": {},
   "outputs": [],
   "source": [
    "# Setting different confidence levels to visualize\n",
    "\n",
    "confidence_levels= [0.9, 0.95, 0.99, 0.999]"
   ]
  },
  {
   "cell_type": "code",
   "execution_count": 42,
   "id": "cc939f4c-1fb2-4be7-9a7b-23b00dc0ff8d",
   "metadata": {},
   "outputs": [
    {
     "name": "stdout",
     "output_type": "stream",
     "text": [
      "Confidence Level(%)       Value at Risk(%)       Value at Risk($)\n",
      "        90.0%                 -1.94%                $-19443.53\n",
      "        95.0%                 -2.55%                $-25488.64\n",
      "        99.0%                 -3.68%                $-36828.25\n",
      "        99.9%                 -4.95%                $-49538.78\n"
     ]
    }
   ],
   "source": [
    "# Calculating VaRs at different levels\n",
    "\n",
    "VaRs_percentage= []\n",
    "VaRs_dollars= []\n",
    "\n",
    "for i in confidence_levels:\n",
    "    VaR= historical_returns.mean() * days - norm.ppf(i) * portfolio_std_dev * np.sqrt(days/252)\n",
    "    VaRs_percentage.append(VaR)\n",
    "    VaRs_dollars.append(VaR * portfolio_value)\n",
    "\n",
    "print(\"Confidence Level(%)       Value at Risk(%)       Value at Risk($)\")\n",
    "\n",
    "for i in range(0,len(confidence_levels)):\n",
    "    print(f\"        {confidence_levels[i]*100}%                 {(VaRs_percentage[i]*100).round(2)}%                ${(VaRs_dollars[i]).round(2)}\")"
   ]
  },
  {
   "cell_type": "code",
   "execution_count": 60,
   "id": "5c72b11c-990a-4364-a784-c66b0f639b98",
   "metadata": {},
   "outputs": [
    {
     "data": {
      "image/png": "[encoded data removed]",
      "text/plain": [
       "<Figure size 1000x600 with 1 Axes>"
      ]
     },
     "metadata": {},
     "output_type": "display_data"
    }
   ],
   "source": [
    "# Plotting the results of historical returns\n",
    "\n",
    "returns_range_percent= returns_range * 100\n",
    "# print(returns_range_percent.head())\n",
    "\n",
    "plt.figure(figsize=(10,6))\n",
    "plt.hist(returns_range, bins=100, color=\"lightblue\")\n",
    "plt.title(f\"Distribution of Portfolio {days}-day Returns\")\n",
    "plt.xlabel(f\"{days}-day Portfolio returns\")\n",
    "plt.ylabel(\"Frequency\")\n",
    "\n",
    "colors= [\"red\", \"yellow\", \"purple\", \"black\"]\n",
    "\n",
    "for i in range(0,len(confidence_levels)):\n",
    "    plt.axvline(VaRs_percentage[i], color= colors[i], linestyle= \"--\", linewidth= 2, label= f\"VaR at {confidence_levels[i]}% confidence level\")\n",
    "\n",
    "plt.legend(loc= \"upper left\")\n",
    "\n",
    "plt.show()"
   ]
  },
  {
   "cell_type": "code",
   "execution_count": null,
   "id": "d502e726-4cf0-430a-8fc2-09f87da31672",
   "metadata": {},
   "outputs": [],
   "source": []
  },
  {
   "cell_type": "code",
   "execution_count": null,
   "id": "5dee21c2-0a58-4048-99f4-01b68cf1c950",
   "metadata": {},
   "outputs": [],
   "source": []
  }
 ],
 "metadata": {
  "kernelspec": {
   "display_name": "Python [conda env:base] *",
   "language": "python",
   "name": "conda-base-py"
  },
  "language_info": {
   "codemirror_mode": {
    "name": "ipython",
    "version": 3
   },
   "file_extension": ".py",
   "mimetype": "text/x-python",
   "name": "python",
   "nbconvert_exporter": "python",
   "pygments_lexer": "ipython3",
   "version": "3.12.7"
  }
 },
 "nbformat": 4,
 "nbformat_minor": 5
}
