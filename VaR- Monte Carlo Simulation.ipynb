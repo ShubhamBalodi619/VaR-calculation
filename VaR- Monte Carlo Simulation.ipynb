{
 "cells": [
  {
   "cell_type": "code",
   "execution_count": 160,
   "id": "577e8ba6-29e7-4b29-8b3e-347de566fd81",
   "metadata": {},
   "outputs": [],
   "source": [
    "# Importing libraries\n",
    "\n",
    "import numpy as np\n",
    "import pandas as pd\n",
    "import datetime as dt\n",
    "import yfinance as yf\n",
    "import matplotlib.pyplot as plt\n",
    "from scipy.stats import norm"
   ]
  },
  {
   "cell_type": "code",
   "execution_count": 161,
   "id": "b0086ac0-2953-4049-83c8-cc249660fe38",
   "metadata": {},
   "outputs": [
    {
     "name": "stdout",
     "output_type": "stream",
     "text": [
      "2010-04-28 00:41:05.500129\n",
      "2025-04-24 00:41:05.500129\n"
     ]
    }
   ],
   "source": [
    "# Setting time line\n",
    "\n",
    "years= 15\n",
    "\n",
    "end_date= dt.datetime.today()\n",
    "start_date= end_date - dt.timedelta(days=years*365)\n",
    "print(start_date)\n",
    "print(end_date)"
   ]
  },
  {
   "cell_type": "code",
   "execution_count": 162,
   "id": "282ae917-b60b-4ce1-94bf-8c5656ca6eff",
   "metadata": {},
   "outputs": [],
   "source": [
    "# Creating a list of tickers\n",
    "\n",
    "tickers= [\"SPY\", \"BND\", \"GLD\", \"QQQ\", \"VTI\"]"
   ]
  },
  {
   "cell_type": "code",
   "execution_count": 163,
   "id": "c5d66a55-5535-4ce5-b832-97ff4a9b28f7",
   "metadata": {},
   "outputs": [
    {
     "name": "stderr",
     "output_type": "stream",
     "text": [
      "[*********************100%***********************]  1 of 1 completed\n",
      "[*********************100%***********************]  1 of 1 completed\n",
      "[*********************100%***********************]  1 of 1 completed\n",
      "[*********************100%***********************]  1 of 1 completed\n",
      "[*********************100%***********************]  1 of 1 completed"
     ]
    },
    {
     "name": "stdout",
     "output_type": "stream",
     "text": [
      "                  SPY        BND         GLD        QQQ        VTI\n",
      "Date                                                              \n",
      "2010-04-28  90.719154  51.789375  114.309998  43.104660  46.699856\n",
      "2010-04-29  91.843849  51.808903  114.279999  43.855522  47.310806\n",
      "2010-04-30  90.285957  51.958664  115.360001  42.991154  46.501289\n",
      "2010-05-03  91.456253  51.930561  115.730003  43.593586  47.127518\n",
      "2010-05-04  89.305717  52.080776  114.870003  42.283955  45.981972\n"
     ]
    },
    {
     "name": "stderr",
     "output_type": "stream",
     "text": [
      "\n"
     ]
    }
   ],
   "source": [
    "# Downloading the daily close prices for the tickers\n",
    "\n",
    "close_df= pd.DataFrame()\n",
    "\n",
    "for ticker in tickers:\n",
    "    data= yf.download(ticker, start= start_date, end= end_date)\n",
    "    close_df[ticker]= data[\"Close\"]\n",
    "\n",
    "print(close_df.head())"
   ]
  },
  {
   "cell_type": "code",
   "execution_count": 164,
   "id": "e0b42336-e878-4e5b-8819-72651c42937c",
   "metadata": {},
   "outputs": [
    {
     "name": "stdout",
     "output_type": "stream",
     "text": [
      "                 SPY       BND       GLD       QQQ       VTI\n",
      "Date                                                        \n",
      "2010-04-29  0.012321  0.000377 -0.000262  0.017270  0.012998\n",
      "2010-04-30 -0.017108  0.002886  0.009406 -0.019906 -0.017259\n",
      "2010-05-03  0.012879 -0.000541  0.003202  0.013916  0.013377\n",
      "2010-05-04 -0.023795  0.002888 -0.007459 -0.030502 -0.024608\n",
      "2010-05-05 -0.005975  0.000502  0.001913 -0.005175 -0.008171\n"
     ]
    }
   ],
   "source": [
    "# Calculating the daily log returns and drop any NAs\n",
    "\n",
    "log_returns= np.log(close_df/close_df.shift(1))\n",
    "log_returns= log_returns.dropna()\n",
    "\n",
    "print(log_returns.head())"
   ]
  },
  {
   "cell_type": "code",
   "execution_count": 165,
   "id": "8c26976c-8a42-4a99-b1b7-460506de3d4f",
   "metadata": {},
   "outputs": [],
   "source": [
    "# Creating a function used to calculate portfolio expected return\n",
    "\n",
    "def expected_return(weights, log_returns):\n",
    "    return np.sum(log_returns.mean() * weights * 252)"
   ]
  },
  {
   "cell_type": "code",
   "execution_count": 166,
   "id": "e975284a-0c9c-4bab-a3bf-b3b9391ccb5f",
   "metadata": {},
   "outputs": [],
   "source": [
    "# Creating a function to calculate the portfolio std. dev.\n",
    "\n",
    "def std_dev(weights, cov_matrix):\n",
    "    return np.sqrt(weights.T @ cov_matrix @ weights)"
   ]
  },
  {
   "cell_type": "code",
   "execution_count": 167,
   "id": "3d6e6e98-c5cc-4547-a8c1-7376562893f8",
   "metadata": {},
   "outputs": [],
   "source": [
    "# Creating a covariance matrix for the securities\n",
    "\n",
    "cov_matrix= log_returns.cov() * 252"
   ]
  },
  {
   "cell_type": "code",
   "execution_count": 168,
   "id": "0e56665e-92b0-49e3-a6e6-8f2c03e98992",
   "metadata": {},
   "outputs": [],
   "source": [
    "# Creating an equally weighted portfolio and finding the total portfolio expected return and std. dev.\n",
    "\n",
    "portfolio_value= 1000000\n",
    "\n",
    "weights= np.array([1/len(tickers)]*len(tickers))\n",
    "portfolio_expected_return= expected_return(weights, log_returns)\n",
    "portfolio_std_dev= std_dev(weights, cov_matrix)"
   ]
  },
  {
   "cell_type": "code",
   "execution_count": 169,
   "id": "e1a007d2-6576-4842-87e8-89a8960bb640",
   "metadata": {},
   "outputs": [],
   "source": [
    "# Creating a function that gives a random Z-score based on a normal distribution\n",
    "\n",
    "def random_z_score():\n",
    "    return np.random.normal(0,1)"
   ]
  },
  {
   "cell_type": "code",
   "execution_count": 170,
   "id": "866ac021-8cca-4a05-997a-1c369addd55e",
   "metadata": {},
   "outputs": [],
   "source": [
    "# Creating a function to calculate scenario gain/loss\n",
    "\n",
    "days= 5\n",
    "\n",
    "def scenario_gain_loss(portfolio_expected_return, portfolio_std_dev, z_score, days):\n",
    "    return portfolio_expected_return * days/252 - z_score * portfolio_std_dev * np.sqrt(days/252)"
   ]
  },
  {
   "cell_type": "code",
   "execution_count": 171,
   "id": "bda471e5-0f5c-482c-a6e2-d5f552724517",
   "metadata": {},
   "outputs": [],
   "source": [
    "# Running 10,000 simulations\n",
    "\n",
    "simulations= 10000\n",
    "scenario_returns=[]\n",
    "\n",
    "for i in range(simulations):\n",
    "    z_score= random_z_score()\n",
    "    scenario_returns.append(scenario_gain_loss(portfolio_expected_return, portfolio_std_dev, z_score, days))"
   ]
  },
  {
   "cell_type": "code",
   "execution_count": 172,
   "id": "cb6f1f22-4f4c-4e2d-9d1c-caa72eabebe0",
   "metadata": {},
   "outputs": [
    {
     "name": "stdout",
     "output_type": "stream",
     "text": [
      "VaR= 3.73%\n",
      "VaR= $37289.12\n"
     ]
    }
   ],
   "source": [
    "# Specifying a confidence interval & calculating the VaR\n",
    "\n",
    "confidence_level= 0.99\n",
    "\n",
    "VaR_percent= np.percentile(scenario_returns, 100 * (1 - confidence_level))\n",
    "VaR_dollar= (VaR_percent * portfolio_value) * -1\n",
    "\n",
    "print(f\"VaR= {(VaR_percent*-100).round(2)}%\")\n",
    "print(f\"VaR= ${VaR_dollar.round(2)}\")"
   ]
  },
  {
   "cell_type": "code",
   "execution_count": 173,
   "id": "e31d752a-649b-42fa-b762-4da565364a19",
   "metadata": {},
   "outputs": [
    {
     "data": {
      "image/png": "[encoded data removed]",
      "text/plain": [
       "<Figure size 1000x600 with 1 Axes>"
      ]
     },
     "metadata": {},
     "output_type": "display_data"
    }
   ],
   "source": [
    "# Plotting the result of all 10,000 simulations\n",
    "\n",
    "plt.figure(figsize=(10,6))\n",
    "plt.hist(scenario_returns, bins=100, color=\"lightblue\")\n",
    "plt.title(f\"Distribution of Portfolio Gain/Loss over {days} days\")\n",
    "plt.xlabel(\"Scenario Gain/Loss\")\n",
    "plt.ylabel(\"Frequency\")\n",
    "plt.axvline(VaR_percent, color= \"red\", linestyle= \"--\", linewidth= 2, label= f\"VaR at {confidence_level}% confidence level\")\n",
    "plt.legend(loc= \"upper left\")\n",
    "\n",
    "plt.show()"
   ]
  },
  {
   "cell_type": "code",
   "execution_count": null,
   "id": "0ca0c792-ac80-44c4-841d-5ea0b1e4b9fd",
   "metadata": {},
   "outputs": [],
   "source": []
  }
 ],
 "metadata": {
  "kernelspec": {
   "display_name": "Python [conda env:base] *",
   "language": "python",
   "name": "conda-base-py"
  },
  "language_info": {
   "codemirror_mode": {
    "name": "ipython",
    "version": 3
   },
   "file_extension": ".py",
   "mimetype": "text/x-python",
   "name": "python",
   "nbconvert_exporter": "python",
   "pygments_lexer": "ipython3",
   "version": "3.12.7"
  }
 },
 "nbformat": 4,
 "nbformat_minor": 5
}
